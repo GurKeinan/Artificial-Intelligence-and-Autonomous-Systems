{
 "cells": [
  {
   "cell_type": "code",
   "execution_count": 2,
   "metadata": {},
   "outputs": [
    {
     "name": "stdout",
     "output_type": "stream",
     "text": [
      "<sliding_puzzle_A_star.SearchNode object at 0x118ad0620>\n"
     ]
    }
   ],
   "source": [
    "import pickle\n",
    "from sliding_puzzle_A_star import SearchNode\n",
    "\n",
    "with open('search_tree.pkl', 'rb') as f:\n",
    "    search_tree = pickle.load(f)\n",
    "    \n",
    "print(search_tree)"
   ]
  }
 ],
 "metadata": {
  "kernelspec": {
   "display_name": "base",
   "language": "python",
   "name": "python3"
  },
  "language_info": {
   "codemirror_mode": {
    "name": "ipython",
    "version": 3
   },
   "file_extension": ".py",
   "mimetype": "text/x-python",
   "name": "python",
   "nbconvert_exporter": "python",
   "pygments_lexer": "ipython3",
   "version": "3.12.4"
  }
 },
 "nbformat": 4,
 "nbformat_minor": 2
}
